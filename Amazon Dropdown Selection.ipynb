{
 "cells": [
  {
   "cell_type": "markdown",
   "metadata": {},
   "source": [
    "## Yinghong Xu\n",
    "Scraped Amazon best-seller pages in Python to create a new dataset for word tokenization in product names. Generated the high frequency words and analyzed product ranking factors. Visualized the output and created a word cloud to identify current popular products and provide sentiment analysis. A selection bar provided for the user to easily choose a category to find more information in the products."
   ]
  },
  {
   "cell_type": "code",
   "execution_count": 1,
   "metadata": {},
   "outputs": [],
   "source": [
    "import warnings\n",
    "warnings.filterwarnings(\"ignore\")"
   ]
  },
  {
   "cell_type": "code",
   "execution_count": 2,
   "metadata": {},
   "outputs": [],
   "source": [
    "%matplotlib inline\n",
    "import matplotlib.pyplot as plt"
   ]
  },
  {
   "cell_type": "code",
   "execution_count": 3,
   "metadata": {},
   "outputs": [],
   "source": [
    "# from __future__ import print_function\n",
    "# from ipywidgets import interact, interactive, fixed, interact_manual\n",
    "import ipywidgets as widgets\n",
    "from wordcloud import WordCloud"
   ]
  },
  {
   "cell_type": "code",
   "execution_count": 4,
   "metadata": {},
   "outputs": [],
   "source": [
    "from bs4 import BeautifulSoup as soup\n",
    "from urllib.request import urlopen as uReq\n",
    "import pandas as pd\n",
    "import numpy as np"
   ]
  },
  {
   "cell_type": "code",
   "execution_count": 5,
   "metadata": {
    "scrolled": true
   },
   "outputs": [],
   "source": [
    "import nltk\n",
    "# nltk.download('punkt')\n",
    "# nltk.download('stopwords')\n",
    "\n",
    "from nltk.tokenize import word_tokenize"
   ]
  },
  {
   "cell_type": "code",
   "execution_count": 6,
   "metadata": {
    "scrolled": false
   },
   "outputs": [],
   "source": [
    "lst=['Sports & Outdoors','Toys & Games','Cell Phones & Accessories', 'Health & Household', 'Baby', 'Beauty & Personal Care',\\\n",
    "    'Clothing, Shoes & Jewelry','Entertainment Collectibles', 'Musical Instruments', 'Pet Supplies', 'Office Products',\\\n",
    "    'CDs & Vinyl', 'Tools & Home Improvement', 'Industrial & Scientific', 'Arts, Crafts & Sewing', 'Electronics', \\\n",
    "    'Kitchen & Dining', 'Sports Collectibles']\n",
    "\n",
    "drop_down=widgets.Dropdown(options=lst,\n",
    "                value='Sports & Outdoors',\n",
    "                description ='Category: ', disabled=False)\n",
    "\n",
    "\n",
    "def word_token(x):\n",
    "    products={}\n",
    "    urls=[]\n",
    "    print(\"\")\n",
    "    \n",
    "    if x=='Toys & Games':\n",
    "        url='https://www.amazon.com/Best-Sellers-Toys-Games/zgbs/toys-and-games/ref=zg_bs_pg_{}?_encoding=UTF8&pg={}'\n",
    "    elif x=='Sports & Outdoors':\n",
    "        url='https://www.amazon.com/Best-Sellers-Sports-Outdoors/zgbs/sporting-goods/ref=zg_bs_pg_{}?_encoding=UTF8&pg={}'\n",
    "    elif x=='Cell Phones & Accessories':\n",
    "        url='https://www.amazon.com/Best-Sellers/zgbs/wireless/ref=zg_bs_pg_{}?_encoding=UTF8&pg={}'\n",
    "    elif x=='Health & Household':\n",
    "        url='https://www.amazon.com/Best-Sellers-Health-Personal-Care/zgbs/hpc/ref=zg_bs_pg_{}?_encoding=UTF8&pg={}'\n",
    "    elif x=='Baby':\n",
    "        url='https://www.amazon.com/Best-Sellers-Baby/zgbs/baby-products/ref=zg_bs_pg_{}?_encoding=UTF8&pg={}'\n",
    "    elif x=='Beauty & Personal Care':\n",
    "        url='https://www.amazon.com/Best-Sellers-Beauty/zgbs/beauty/ref=zg_bs_pg_{}?_encoding=UTF8&pg={}'\n",
    "    elif x=='Clothing, Shoes & Jewelry':\n",
    "        url='https://www.amazon.com/Best-Sellers/zgbs/fashion/ref=zg_bs_pg_{}?_encoding=UTF8&pg={}'\n",
    "    elif x=='Entertainment Collectibles':\n",
    "        url='https://www.amazon.com/Best-Sellers-Entertainment-Collectibles/zgbs/entertainment-collectibles/ref=zg_bs_pg_{}?_encoding=UTF8&pg={}'\n",
    "    elif x=='Musical Instruments':\n",
    "        url='https://www.amazon.com/Best-Sellers-Musical-Instruments/zgbs/musical-instruments/ref=zg_bs_pg_{}?_encoding=UTF8&pg={}'\n",
    "    elif x=='Pet Supplies':\n",
    "        url='https://www.amazon.com/Best-Sellers-Pet-Supplies/zgbs/pet-supplies/ref=zg_bs_pg_{}?_encoding=UTF8&pg={}'\n",
    "    elif x=='Office Products':\n",
    "        url='https://www.amazon.com/Best-Sellers-Office-Products/zgbs/office-products/ref=zg_bs_pg_{}?_encoding=UTF8&pg={}'\n",
    "    elif x=='CDs & Vinyl':\n",
    "        url='https://www.amazon.com/best-sellers-music-albums/zgbs/music/ref=zg_bs_pg_{}?_encoding=UTF8&pg={}'\n",
    "    elif x=='Tools & Home Improvement':\n",
    "        url='https://www.amazon.com/Best-Sellers-Home-Improvement/zgbs/hi/ref=zg_bs_pg_{}?_encoding=UTF8&pg={}'\n",
    "    elif x=='Industrial & Scientific':\n",
    "        url='https://www.amazon.com/Best-Sellers-Industrial-Scientific/zgbs/industrial/ref=zg_bs_pg_{}?_encoding=UTF8&pg={}'\n",
    "    elif x=='Video Games':\n",
    "        url='https://www.amazon.com/best-sellers-video-games/zgbs/videogames/ref=zg_bs_pg_{}?_encoding=UTF8&pg={}'\n",
    "    elif x=='Arts, Crafts & Sewing':\n",
    "        url='https://www.amazon.com/Best-Sellers-Arts-Crafts-Sewing/zgbs/arts-crafts/ref=zg_bs_pg_{}?_encoding=UTF8&pg={}'\n",
    "    elif x=='Electronics':\n",
    "        url='https://www.amazon.com/Best-Sellers-Electronics/zgbs/electronics/ref=zg_bs_pg_{}?_encoding=UTF8&pg={}'\n",
    "    elif x=='Kitchen & Dining':\n",
    "        url='https://www.amazon.com/Best-Sellers-Kitchen-Dining/zgbs/kitchen/ref=zg_bs_pg_{}?_encoding=UTF8&pg={}'\n",
    "    elif x=='Sports Collectibles':\n",
    "        url='https://www.amazon.com/Best-Sellers-Sports-Collectibles/zgbs/sports-collectibles/ref=zg_bs_pg_{}?_encoding=UTF8&pg={}'\n",
    "    prd_no=0\n",
    "    for page in range(3):\n",
    "        urls.append(url.format(page, page))\n",
    "        page=urls[1:]\n",
    "   \n",
    "    for p in page: \n",
    "        uClient=uReq(p)\n",
    "        page_html=uClient.read()\n",
    "        uClient.close()\n",
    "        page_soup=soup(page_html, \"html.parser\")\n",
    "        containers= page_soup.findAll(\"div\",{\"class\":\"a-section a-spacing-none aok-relative\"})\n",
    "         \n",
    "        for container in containers:    \n",
    "            if container.findAll(\"div\", {\"class\": \"a-section a-spacing-small\"}): \n",
    "                product_name=container.findAll(\"div\", {\"class\": \"a-section a-spacing-small\"})[0].img[\"alt\"]\n",
    "            else:\n",
    "                product_name=\"\"\n",
    "                \n",
    "            if container.findAll(\"a\", {\"class\":\"a-link-normal\"}):        \n",
    "                link_container=container.findAll(\"a\", {\"class\":\"a-link-normal\"})[0][\"href\"]\n",
    "                preflix=\"https://www.amazon.com\"\n",
    "                link=preflix+link_container\n",
    "            else:\n",
    "                link=\"\"\n",
    "             \n",
    "            if container.findAll(\"span\", {\"class\":\"p13n-sc-price\"}):\n",
    "                price=container.findAll(\"span\", {\"class\":\"p13n-sc-price\"})[0].text\n",
    "            else:\n",
    "                price=\"\"  \n",
    "        #rating\n",
    "            if container.findAll(\"span\", {\"class\":\"a-icon-alt\"}):\n",
    "                rating=container.findAll(\"span\", {\"class\":\"a-icon-alt\"})[0].text\n",
    "            else:\n",
    "                rating=\"\"\n",
    "        #reviews\n",
    "            if container.findAll(\"a\", {\"class\":\"a-size-small a-link-normal\"}):\n",
    "                reviews=container.findAll(\"a\", {\"class\":\"a-size-small a-link-normal\"})[0].text\n",
    "            else:\n",
    "                reviews=\"\"    \n",
    "        #rank\n",
    "            rank=container.findAll(\"span\", {\"class\":\"zg-badge-text\"})[0].text\n",
    "\n",
    "            prd_no+=1\n",
    "            products[prd_no]=[product_name, rank, link, price, rating, reviews]\n",
    "    products_df=pd.DataFrame.from_dict(products, orient='index', \\\n",
    "                                       columns=['product_name', 'rank', 'link', 'price', 'rating', 'reviews'])\n",
    "    \n",
    "    products_df.to_csv('prds.csv', index=False)\n",
    "    df=pd.read_csv('prds.csv')\n",
    "    # Data cleaning\n",
    "    df['rank']=df['rank'].str.strip('#')\n",
    "    df.price=df.price.str.strip('$')\n",
    "\n",
    "    tdf=df.rating.str.split(' ', expand=True)[0]\n",
    "    df.rating=tdf\n",
    "    df1=df\n",
    "    df1 = df1[df1['rank'].notna()]\n",
    "# word tokenization\n",
    "    punctuation = ['(', ')', '?', ':', ',', '.', '!', '/', '\"','–', '-', \"'\",'_','&', '[', ']', '%', '|', '#',';']\n",
    "    a=df1['product_name'].str.lower().str.cat(sep=' ')\n",
    "    for i in punctuation:\n",
    "        a=a.replace(i, '')\n",
    "    words=nltk.tokenize.word_tokenize(a)\n",
    "    word_dist=nltk.FreqDist(words)\n",
    "    stopwords=nltk.corpus.stopwords.words('english')\n",
    "    words_dist_new=nltk.FreqDist(w for w in words if w not in stopwords)\n",
    "\n",
    "    rslt=pd.DataFrame(words_dist_new.most_common(len(words_dist_new)), columns=['VocaList', 'Count']).set_index('VocaList')  \n",
    "    # plot\n",
    "\n",
    "    rslt.head(20).plot(kind='bar', figsize=(10,5))\n",
    "    plt.title(\"Top 20 Frequency Words\", fontsize=20)\n",
    "    plt.xlabel('VocaList', fontsize=15)\n",
    "    plt.ylabel(\"Count\", fontsize=15)\n",
    "    plt.xticks(rotation=60, fontsize=15)\n",
    "\n",
    "    # word cloud\n",
    "    wordcloudConvertDF = rslt.T.to_dict('records')\n",
    "    wordcloud = WordCloud(width=800, height=600, random_state=21, max_font_size=100, relative_scaling=0.6, colormap='Dark2')\\\n",
    "        .generate_from_frequencies(dict(*wordcloudConvertDF))\n",
    "    plt.figure(figsize=(12, 12))    \n",
    "    plt.imshow(wordcloud, interpolation=\"bilinear\")\n",
    "    plt.title(\"Word Cloud\", fontsize=20)\n",
    "    plt.axis('off')\n",
    "    plt.show()\n",
    "    \n",
    "    # ranking factors\n",
    "    df_new=df1.dropna(axis='rows')\n",
    "    try:\n",
    "        df_new['reviews']=df_new['reviews'].str.replace(',','')\n",
    "        df_new['reviews'] = df_new['reviews'].astype(int)\n",
    "    except:\n",
    "        pass\n",
    "    df_new['price'] = pd.to_numeric(df_new['price'])\n",
    "    df_new['rank'] = pd.to_numeric(df_new['rank'])\n",
    "    df_new['rating'] = pd.to_numeric(df_new['rating'])\n",
    "    fig, (ax1, ax2, ax3) = plt.subplots(1, 3, figsize=(16,4))\n",
    "    fig.suptitle('Ranking Factors', size=20, y=1.02)\n",
    "\n",
    "    df_new.plot(x='price', y='rank', kind='scatter', color='orange', ax=ax2)\n",
    "    df_new.plot(x='reviews', y='rank', kind='scatter', color='green', ax=ax1)\n",
    "    df_new.plot(x='rating',y='rank', kind='scatter', color='black', ax=ax3)\n",
    "    return\n",
    "\n"
   ]
  },
  {
   "cell_type": "code",
   "execution_count": 7,
   "metadata": {
    "scrolled": false
   },
   "outputs": [
    {
     "data": {
      "application/vnd.jupyter.widget-view+json": {
       "model_id": "18420e4345834aba947c4e2cf0afa94c",
       "version_major": 2,
       "version_minor": 0
      },
      "text/plain": [
       "interactive(children=(Dropdown(description='Category: ', options=('Sports & Outdoors', 'Toys & Games', 'Cell P…"
      ]
     },
     "metadata": {},
     "output_type": "display_data"
    },
    {
     "data": {
      "text/plain": [
       "<function __main__.word_token(x)>"
      ]
     },
     "execution_count": 7,
     "metadata": {},
     "output_type": "execute_result"
    }
   ],
   "source": [
    "widgets.interact(word_token, x=drop_down)"
   ]
  },
  {
   "cell_type": "code",
   "execution_count": null,
   "metadata": {},
   "outputs": [],
   "source": []
  }
 ],
 "metadata": {
  "kernelspec": {
   "display_name": "Python 3",
   "language": "python",
   "name": "python3"
  },
  "language_info": {
   "codemirror_mode": {
    "name": "ipython",
    "version": 3
   },
   "file_extension": ".py",
   "mimetype": "text/x-python",
   "name": "python",
   "nbconvert_exporter": "python",
   "pygments_lexer": "ipython3",
   "version": "3.7.3"
  }
 },
 "nbformat": 4,
 "nbformat_minor": 2
}
